{
 "cells": [
  {
   "cell_type": "markdown",
   "metadata": {},
   "source": [
    "# Drag Control Statespace with Kalman Filter"
   ]
  },
  {
   "cell_type": "markdown",
   "metadata": {},
   "source": [
    "### Importing Libraries"
   ]
  },
  {
   "cell_type": "code",
   "execution_count": 120,
   "metadata": {},
   "outputs": [],
   "source": [
    "import numpy as np\n",
    "import sympy as sym\n",
    "import json\n",
    "import matplotlib.pyplot as plt\n",
    "import scipy"
   ]
  },
  {
   "cell_type": "markdown",
   "metadata": {},
   "source": [
    "### States"
   ]
  },
  {
   "cell_type": "code",
   "execution_count": 121,
   "metadata": {},
   "outputs": [],
   "source": [
    "# Altitude\n",
    "x = sym.symbols('x')\n",
    "# Vertical Velocity\n",
    "u = sym.symbols('u')"
   ]
  },
  {
   "cell_type": "markdown",
   "metadata": {},
   "source": [
    "### Inputs"
   ]
  },
  {
   "cell_type": "code",
   "execution_count": 122,
   "metadata": {},
   "outputs": [],
   "source": [
    "#Flap Extension Length\n",
    "L = sym.symbols('L')"
   ]
  },
  {
   "cell_type": "markdown",
   "metadata": {},
   "source": [
    "### Constants"
   ]
  },
  {
   "cell_type": "code",
   "execution_count": 123,
   "metadata": {},
   "outputs": [],
   "source": [
    "g, W_f, Ixx, Sref, rho, m, D, Cd = sym.symbols('g, W_f, Ixx, Sref, rho, m, D, Cd')"
   ]
  },
  {
   "cell_type": "markdown",
   "metadata": {},
   "source": [
    "### State Space Model"
   ]
  },
  {
   "cell_type": "code",
   "execution_count": 124,
   "metadata": {},
   "outputs": [
    {
     "data": {
      "text/latex": [
       "$\\displaystyle \\left[\\begin{matrix}u\\\\\\frac{- \\frac{Cd Sref \\rho u^{2}}{2} - g m}{m}\\end{matrix}\\right]$"
      ],
      "text/plain": [
       "Matrix([\n",
       "[                            u],\n",
       "[(-Cd*Sref*rho*u**2/2 - g*m)/m]])"
      ]
     },
     "execution_count": 124,
     "metadata": {},
     "output_type": "execute_result"
    }
   ],
   "source": [
    "# EOM\n",
    "F = -((rho* (u**2) * Sref * Cd) / 2) - (m*g)\n",
    "# F = -m*g\n",
    "accel = F / m\n",
    "\n",
    "# Xdot Vector\n",
    "hdot = u\n",
    "hddot = accel\n",
    "f_sym = sym.Matrix.vstack(sym.Matrix([[hdot],[hddot]]))\n",
    "\n",
    "# States\n",
    "s = [x,u]\n",
    "# Inputs\n",
    "i = [L]\n",
    "# Params\n",
    "params = [g, W_f, Ixx, Sref, rho, m, D, Cd]\n",
    "\n",
    "f_sym"
   ]
  },
  {
   "cell_type": "markdown",
   "metadata": {},
   "source": [
    "### Turning f into a function"
   ]
  },
  {
   "cell_type": "code",
   "execution_count": 125,
   "metadata": {},
   "outputs": [],
   "source": [
    "f = sym.lambdify(s + i + params, f_sym)\n",
    "\n",
    "m = 21.364                 # dry mass of the rocket \n",
    "D = 0.1056132               # rocket diameter       \n",
    "Sref = np.pi * (D/2)**2    # aerodynamic reference area in m^2\n",
    "W_flap = .03175\n",
    "rho = 1.225             #! Not constant throughout flight\n",
    "g = 9.81                #! Not constant throughout flight\n",
    "Cd = .58                #! Not constant throughout flight\n"
   ]
  },
  {
   "cell_type": "markdown",
   "metadata": {},
   "source": [
    "### Equilibrium Values"
   ]
  },
  {
   "cell_type": "code",
   "execution_count": 126,
   "metadata": {},
   "outputs": [
    {
     "data": {
      "text/plain": [
       "array([[ 0.1       ],\n",
       "       [-9.81000146]])"
      ]
     },
     "execution_count": 126,
     "metadata": {},
     "output_type": "execute_result"
    }
   ],
   "source": [
    "x_e = 9144 #m\n",
    "u_e = 0.1 #m/s\n",
    "L_e = 0.0254 # m\n",
    "\n",
    "s_eq = [x_e,u_e]\n",
    "i_eq = [L_e]\n",
    "params_eq = [g, W_f, Ixx, Sref, rho, m, D, Cd]\n",
    "\n",
    "f_eq = f(*s_eq,*i_eq,*params_eq)\n",
    "f_eq\n"
   ]
  },
  {
   "cell_type": "markdown",
   "metadata": {},
   "source": [
    "### A Matrix"
   ]
  },
  {
   "cell_type": "code",
   "execution_count": 127,
   "metadata": {},
   "outputs": [
    {
     "data": {
      "text/latex": [
       "$\\displaystyle \\left[\\begin{matrix}0 & 1\\\\0 & - \\frac{Cd Sref \\rho u}{m}\\end{matrix}\\right]$"
      ],
      "text/plain": [
       "Matrix([\n",
       "[0,                1],\n",
       "[0, -Cd*Sref*rho*u/m]])"
      ]
     },
     "execution_count": 127,
     "metadata": {},
     "output_type": "execute_result"
    }
   ],
   "source": [
    "A_sym = f_sym.jacobian(s)\n",
    "A_sym\n"
   ]
  },
  {
   "cell_type": "code",
   "execution_count": 128,
   "metadata": {},
   "outputs": [
    {
     "data": {
      "text/plain": [
       "array([[ 0.00000000e+00,  1.00000000e+00],\n",
       "       [ 0.00000000e+00, -2.91345153e-05]])"
      ]
     },
     "execution_count": 128,
     "metadata": {},
     "output_type": "execute_result"
    }
   ],
   "source": [
    "A_num = sym.lambdify(s+i+params, A_sym)\n",
    "A = A_num(*s_eq,*i_eq,*params_eq)\n",
    "A"
   ]
  },
  {
   "cell_type": "markdown",
   "metadata": {},
   "source": [
    "### B Matrix"
   ]
  },
  {
   "cell_type": "code",
   "execution_count": 129,
   "metadata": {},
   "outputs": [
    {
     "data": {
      "text/latex": [
       "$\\displaystyle \\left[\\begin{matrix}0\\\\0\\end{matrix}\\right]$"
      ],
      "text/plain": [
       "Matrix([\n",
       "[0],\n",
       "[0]])"
      ]
     },
     "execution_count": 129,
     "metadata": {},
     "output_type": "execute_result"
    }
   ],
   "source": [
    "# Need to add flap equations into EOMs before doing this\n",
    "B_sym = f_sym.jacobian(i)\n",
    "B_sym\n"
   ]
  },
  {
   "cell_type": "code",
   "execution_count": 130,
   "metadata": {},
   "outputs": [
    {
     "data": {
      "text/plain": [
       "array([[0],\n",
       "       [0]])"
      ]
     },
     "execution_count": 130,
     "metadata": {},
     "output_type": "execute_result"
    }
   ],
   "source": [
    "B_num = sym.lambdify(s+i+params,B_sym)\n",
    "B = B_num(*s_eq,*i_eq,*params_eq)\n",
    "B"
   ]
  },
  {
   "cell_type": "markdown",
   "metadata": {},
   "source": [
    "### Discretization"
   ]
  },
  {
   "cell_type": "markdown",
   "metadata": {},
   "source": [
    "Converting Continous State Matrix to Discrete \n",
    "\n",
    "$ F =  e^{(A \\Delta t)}$\n",
    "\n",
    "$\\Delta t$ is the time step between measurements"
   ]
  },
  {
   "cell_type": "code",
   "execution_count": 131,
   "metadata": {},
   "outputs": [
    {
     "data": {
      "text/plain": [
       "array([[1.        , 0.006     ],\n",
       "       [0.        , 0.99999983]])"
      ]
     },
     "execution_count": 131,
     "metadata": {},
     "output_type": "execute_result"
    }
   ],
   "source": [
    "# sensor timestep\n",
    "s_dt = 0.006\n",
    "\n",
    "F = scipy.linalg.expm(A * s_dt)\n",
    "F\n"
   ]
  },
  {
   "cell_type": "markdown",
   "metadata": {},
   "source": [
    "### White Noise + Covariance"
   ]
  },
  {
   "cell_type": "code",
   "execution_count": 132,
   "metadata": {},
   "outputs": [
    {
     "data": {
      "text/plain": [
       "array([[1.44e-07, 3.60e-05],\n",
       "       [3.60e-05, 1.20e-02]])"
      ]
     },
     "execution_count": 132,
     "metadata": {},
     "output_type": "execute_result"
    }
   ],
   "source": [
    "from filterpy.common import Q_continuous_white_noise\n",
    "\n",
    "# Initial Covariance Matrix\n",
    "P = np.array([[100,0],\n",
    "              [0,100]])\n",
    "\n",
    "Q = Q_continuous_white_noise(dim=2, dt=s_dt ,spectral_density=2)\n",
    "Q\n",
    "\n"
   ]
  },
  {
   "cell_type": "markdown",
   "metadata": {},
   "source": [
    "### Measurement Function"
   ]
  },
  {
   "cell_type": "code",
   "execution_count": 133,
   "metadata": {},
   "outputs": [],
   "source": [
    "# H = np.array([[float(1),0],\n",
    "            #   [0,0]])\n",
    "\n",
    "H = np.array([float(1),0])"
   ]
  },
  {
   "cell_type": "markdown",
   "metadata": {},
   "source": [
    "### Measurement Noise Matrix\n"
   ]
  },
  {
   "cell_type": "code",
   "execution_count": 134,
   "metadata": {},
   "outputs": [
    {
     "data": {
      "text/plain": [
       "20.0"
      ]
     },
     "execution_count": 134,
     "metadata": {},
     "output_type": "execute_result"
    }
   ],
   "source": [
    "#! Can find variance through data sheets?\n",
    "# R = np.array([[float(20),0],  # 20 is guesstimate\n",
    "#               [0,0]])\n",
    "\n",
    "R = 20.0\n",
    "R"
   ]
  },
  {
   "cell_type": "code",
   "execution_count": 135,
   "metadata": {},
   "outputs": [
    {
     "ename": "ValueError",
     "evalue": "shapes (1,) and (2,) not aligned: 1 (dim 0) != 2 (dim 0)",
     "output_type": "error",
     "traceback": [
      "\u001b[0;31m---------------------------------------------------------------------------\u001b[0m",
      "\u001b[0;31mValueError\u001b[0m                                Traceback (most recent call last)",
      "Input \u001b[0;32mIn [135]\u001b[0m, in \u001b[0;36m<module>\u001b[0;34m\u001b[0m\n\u001b[1;32m     13\u001b[0m \u001b[38;5;66;03m# print(H @ P @ H.T + R)\u001b[39;00m\n\u001b[1;32m     14\u001b[0m \u001b[38;5;66;03m# K = P @ H.T @ np.linalg.inv(H @ P @ H.T + R)\u001b[39;00m\n\u001b[1;32m     16\u001b[0m z \u001b[38;5;241m=\u001b[39m \u001b[38;5;241m2.0\u001b[39m\n\u001b[0;32m---> 17\u001b[0m kf \u001b[38;5;241m=\u001b[39m \u001b[43mkalman\u001b[49m\u001b[38;5;241;43m.\u001b[39;49m\u001b[43mupdate\u001b[49m\u001b[43m(\u001b[49m\u001b[43mx0\u001b[49m\u001b[43m,\u001b[49m\u001b[43mP\u001b[49m\u001b[43m,\u001b[49m\u001b[43mz\u001b[49m\u001b[43m,\u001b[49m\u001b[43mR\u001b[49m\u001b[43m)\u001b[49m\n",
      "File \u001b[0;32m~/SpaceShot/controls_env/lib/python3.10/site-packages/filterpy/kalman/kalman_filter.py:1369\u001b[0m, in \u001b[0;36mupdate\u001b[0;34m(x, P, z, R, H, return_all)\u001b[0m\n\u001b[1;32m   1366\u001b[0m \u001b[38;5;28;01mif\u001b[39;00m np\u001b[38;5;241m.\u001b[39misscalar(H):\n\u001b[1;32m   1367\u001b[0m     H \u001b[38;5;241m=\u001b[39m np\u001b[38;5;241m.\u001b[39marray([H])\n\u001b[0;32m-> 1369\u001b[0m Hx \u001b[38;5;241m=\u001b[39m np\u001b[38;5;241m.\u001b[39matleast_1d(\u001b[43mdot\u001b[49m\u001b[43m(\u001b[49m\u001b[43mH\u001b[49m\u001b[43m,\u001b[49m\u001b[43m \u001b[49m\u001b[43mx\u001b[49m\u001b[43m)\u001b[49m)\n\u001b[1;32m   1370\u001b[0m z \u001b[38;5;241m=\u001b[39m reshape_z(z, Hx\u001b[38;5;241m.\u001b[39mshape[\u001b[38;5;241m0\u001b[39m], x\u001b[38;5;241m.\u001b[39mndim)\n\u001b[1;32m   1372\u001b[0m \u001b[38;5;66;03m# error (residual) between measurement and prediction\u001b[39;00m\n",
      "File \u001b[0;32m<__array_function__ internals>:180\u001b[0m, in \u001b[0;36mdot\u001b[0;34m(*args, **kwargs)\u001b[0m\n",
      "\u001b[0;31mValueError\u001b[0m: shapes (1,) and (2,) not aligned: 1 (dim 0) != 2 (dim 0)"
     ]
    }
   ],
   "source": [
    "import filterpy.kalman as kalman\n",
    "\n",
    "kf = kalman.KalmanFilter(dim_x = 2,dim_z = 2)\n",
    "x0 = np.array([1.5,10])\n",
    "kf.x = x0\n",
    "kf.F = F\n",
    "kf.H = H\n",
    "kf.P = P\n",
    "kf.R = R\n",
    "\n",
    "kf\n",
    "\n",
    "# print(H @ P @ H.T + R)\n",
    "K = P @ H.T @ np.linalg.inv(H @ P @ H.T + R)\n",
    "\n",
    "z = 2.0\n",
    "kf = kalman.update(x0,P,z,R)\n",
    "\n",
    "\n"
   ]
  },
  {
   "cell_type": "code",
   "execution_count": null,
   "metadata": {},
   "outputs": [],
   "source": []
  }
 ],
 "metadata": {
  "interpreter": {
   "hash": "6959268c21b8f3d1427a58e01b147ed9008ac4fcdaa562395639f28dab9edf1e"
  },
  "kernelspec": {
   "display_name": "Python 3.9.7 64-bit ('class_env': venv)",
   "language": "python",
   "name": "python3"
  },
  "language_info": {
   "codemirror_mode": {
    "name": "ipython",
    "version": 3
   },
   "file_extension": ".py",
   "mimetype": "text/x-python",
   "name": "python",
   "nbconvert_exporter": "python",
   "pygments_lexer": "ipython3",
   "version": "3.10.2"
  },
  "orig_nbformat": 4
 },
 "nbformat": 4,
 "nbformat_minor": 2
}
