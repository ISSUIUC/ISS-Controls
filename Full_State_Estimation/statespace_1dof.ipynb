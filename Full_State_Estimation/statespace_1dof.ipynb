{
 "cells": [
  {
   "cell_type": "markdown",
   "metadata": {},
   "source": [
    "# Drag Control Statespace with Kalman Filter"
   ]
  },
  {
   "cell_type": "markdown",
   "metadata": {},
   "source": [
    "### Importing Libraries"
   ]
  },
  {
   "cell_type": "code",
   "execution_count": 92,
   "metadata": {},
   "outputs": [],
   "source": [
    "import numpy as np\n",
    "import sympy as sym\n",
    "import json\n",
    "import matplotlib.pyplot as plt\n",
    "from scipy import linalg\n",
    "from scipy.interpolate import interp1d\n",
    "from sympy import Matrix"
   ]
  },
  {
   "cell_type": "markdown",
   "metadata": {},
   "source": [
    "### States"
   ]
  },
  {
   "cell_type": "code",
   "execution_count": 93,
   "metadata": {},
   "outputs": [],
   "source": [
    "# Altitude\n",
    "x = sym.symbols('x')\n",
    "# Vertical Velocity\n",
    "u = sym.symbols('u')"
   ]
  },
  {
   "cell_type": "markdown",
   "metadata": {},
   "source": [
    "### Inputs"
   ]
  },
  {
   "cell_type": "code",
   "execution_count": 94,
   "metadata": {},
   "outputs": [],
   "source": [
    "#Flap Extension Length\n",
    "L = sym.symbols('L')"
   ]
  },
  {
   "cell_type": "markdown",
   "metadata": {},
   "source": [
    "### Constants"
   ]
  },
  {
   "cell_type": "code",
   "execution_count": 95,
   "metadata": {},
   "outputs": [],
   "source": [
    "g, W_f, Ixx, Sref, rho, m, D, Cd = sym.symbols('g, W_f, Ixx, Sref, rho, m, D, Cd')"
   ]
  },
  {
   "cell_type": "markdown",
   "metadata": {},
   "source": [
    "### State Space Model"
   ]
  },
  {
   "cell_type": "code",
   "execution_count": 96,
   "metadata": {},
   "outputs": [
    {
     "data": {
      "text/latex": [
       "$\\displaystyle \\left[\\begin{matrix}u\\\\\\frac{- \\frac{Cd Sref \\rho u^{2}}{2} - g m}{m}\\end{matrix}\\right]$"
      ],
      "text/plain": [
       "Matrix([\n",
       "[                            u],\n",
       "[(-Cd*Sref*rho*u**2/2 - g*m)/m]])"
      ]
     },
     "execution_count": 96,
     "metadata": {},
     "output_type": "execute_result"
    }
   ],
   "source": [
    "# EOM\n",
    "F = -((rho* (u**2) * Sref * Cd) / 2) - (m*g)\n",
    "# F = -m*g\n",
    "accel = F / m\n",
    "\n",
    "# Xdot Vector\n",
    "hdot = u\n",
    "hddot = accel\n",
    "f_sym = sym.Matrix.vstack(sym.Matrix([[hdot],[hddot]]))\n",
    "\n",
    "# States\n",
    "s = [x,u]\n",
    "# Inputs\n",
    "i = [L]\n",
    "# Params\n",
    "params = [g, W_f, Ixx, Sref, rho, m, D, Cd]\n",
    "\n",
    "f_sym"
   ]
  },
  {
   "cell_type": "markdown",
   "metadata": {},
   "source": [
    "### Turning f into a function"
   ]
  },
  {
   "cell_type": "code",
   "execution_count": 97,
   "metadata": {},
   "outputs": [],
   "source": [
    "f = sym.lambdify(s + i + params, f_sym)\n",
    "\n",
    "m = 21.364                 # dry mass of the rocket \n",
    "D = 0.1056132               # rocket diameter       \n",
    "Sref = sym.pi * (D/2)**2    # aerodynamic reference area in m^2\n",
    "W_flap = .03175\n",
    "rho = 1.225             #! Not constant throughout flight\n",
    "g = 9.81                #! Not constant throughout flight\n",
    "Cd = .58                #! Not constant throughout flight\n"
   ]
  },
  {
   "cell_type": "markdown",
   "metadata": {},
   "source": [
    "### Equilibrium Values"
   ]
  },
  {
   "cell_type": "code",
   "execution_count": 98,
   "metadata": {},
   "outputs": [
    {
     "data": {
      "text/plain": [
       "array([[0.1],\n",
       "       [-9.81 - 4.63690212747936e-7*pi]], dtype=object)"
      ]
     },
     "execution_count": 98,
     "metadata": {},
     "output_type": "execute_result"
    }
   ],
   "source": [
    "x_e = 9144 #m\n",
    "u_e = 0.1 #m/s\n",
    "L_e = 0.0254 # m\n",
    "\n",
    "s_eq = [x_e,u_e]\n",
    "i_eq = [L_e]\n",
    "params_eq = [g, W_f, Ixx, Sref, rho, m, D, Cd]\n",
    "\n",
    "f_eq = f(*s_eq,*i_eq,*params_eq)\n",
    "f_eq\n"
   ]
  },
  {
   "cell_type": "markdown",
   "metadata": {},
   "source": [
    "### A Matrix"
   ]
  },
  {
   "cell_type": "code",
   "execution_count": 99,
   "metadata": {},
   "outputs": [
    {
     "data": {
      "text/latex": [
       "$\\displaystyle \\left[\\begin{matrix}0 & 1\\\\0 & - \\frac{Cd Sref \\rho u}{m}\\end{matrix}\\right]$"
      ],
      "text/plain": [
       "Matrix([\n",
       "[0,                1],\n",
       "[0, -Cd*Sref*rho*u/m]])"
      ]
     },
     "execution_count": 99,
     "metadata": {},
     "output_type": "execute_result"
    }
   ],
   "source": [
    "A_sym = f_sym.jacobian(s)\n",
    "A_sym\n"
   ]
  },
  {
   "cell_type": "code",
   "execution_count": 100,
   "metadata": {},
   "outputs": [
    {
     "data": {
      "text/plain": [
       "array([[0, 1],\n",
       "       [0, -9.27380425495872e-6*pi]], dtype=object)"
      ]
     },
     "execution_count": 100,
     "metadata": {},
     "output_type": "execute_result"
    }
   ],
   "source": [
    "A_num = sym.lambdify(s+i+params, A_sym)\n",
    "A = A_num(*s_eq,*i_eq,*params_eq)\n",
    "A"
   ]
  },
  {
   "cell_type": "markdown",
   "metadata": {},
   "source": [
    "### B Matrix"
   ]
  },
  {
   "cell_type": "code",
   "execution_count": 101,
   "metadata": {},
   "outputs": [
    {
     "data": {
      "text/latex": [
       "$\\displaystyle \\left[\\begin{matrix}0\\\\0\\end{matrix}\\right]$"
      ],
      "text/plain": [
       "Matrix([\n",
       "[0],\n",
       "[0]])"
      ]
     },
     "execution_count": 101,
     "metadata": {},
     "output_type": "execute_result"
    }
   ],
   "source": [
    "# Need to add flap equations into EOMs before doing this\n",
    "B_sym = f_sym.jacobian(i)\n",
    "B_sym\n"
   ]
  },
  {
   "cell_type": "code",
   "execution_count": 102,
   "metadata": {},
   "outputs": [
    {
     "data": {
      "text/plain": [
       "array([[0],\n",
       "       [0]])"
      ]
     },
     "execution_count": 102,
     "metadata": {},
     "output_type": "execute_result"
    }
   ],
   "source": [
    "B_num = sym.lambdify(s+i+params,B_sym)\n",
    "B = B_num(*s_eq,*i_eq,*params_eq)\n",
    "B"
   ]
  },
  {
   "cell_type": "markdown",
   "metadata": {},
   "source": [
    "### Discretization"
   ]
  },
  {
   "cell_type": "markdown",
   "metadata": {},
   "source": [
    "Converting Continous State Matrix to Discrete \n",
    "\n",
    "$ F =  e^{(A \\Delta t)}$\n",
    "\n",
    "$\\Delta t$ is the time step between measurements"
   ]
  },
  {
   "cell_type": "code",
   "execution_count": null,
   "metadata": {},
   "outputs": [],
   "source": []
  },
  {
   "cell_type": "code",
   "execution_count": null,
   "metadata": {},
   "outputs": [],
   "source": []
  }
 ],
 "metadata": {
  "interpreter": {
   "hash": "6959268c21b8f3d1427a58e01b147ed9008ac4fcdaa562395639f28dab9edf1e"
  },
  "kernelspec": {
   "display_name": "Python 3.9.7 64-bit ('class_env': venv)",
   "language": "python",
   "name": "python3"
  },
  "language_info": {
   "codemirror_mode": {
    "name": "ipython",
    "version": 3
   },
   "file_extension": ".py",
   "mimetype": "text/x-python",
   "name": "python",
   "nbconvert_exporter": "python",
   "pygments_lexer": "ipython3",
   "version": "3.10.2"
  },
  "orig_nbformat": 4
 },
 "nbformat": 4,
 "nbformat_minor": 2
}
