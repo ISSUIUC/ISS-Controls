{
 "cells": [
  {
   "cell_type": "code",
   "execution_count": 116,
   "metadata": {},
   "outputs": [
    {
     "name": "stdout",
     "output_type": "stream",
     "text": [
      "Requirement already satisfied: filterpy in /Users/keshavbalaji/anaconda3/envs/ML-py/lib/python3.11/site-packages (1.4.5)\n",
      "Requirement already satisfied: numpy in /Users/keshavbalaji/anaconda3/envs/ML-py/lib/python3.11/site-packages (from filterpy) (1.26.3)\n",
      "Requirement already satisfied: scipy in /Users/keshavbalaji/anaconda3/envs/ML-py/lib/python3.11/site-packages (from filterpy) (1.11.4)\n",
      "Requirement already satisfied: matplotlib in /Users/keshavbalaji/anaconda3/envs/ML-py/lib/python3.11/site-packages (from filterpy) (3.8.0)\n",
      "Requirement already satisfied: contourpy>=1.0.1 in /Users/keshavbalaji/anaconda3/envs/ML-py/lib/python3.11/site-packages (from matplotlib->filterpy) (1.2.0)\n",
      "Requirement already satisfied: cycler>=0.10 in /Users/keshavbalaji/anaconda3/envs/ML-py/lib/python3.11/site-packages (from matplotlib->filterpy) (0.11.0)\n",
      "Requirement already satisfied: fonttools>=4.22.0 in /Users/keshavbalaji/anaconda3/envs/ML-py/lib/python3.11/site-packages (from matplotlib->filterpy) (4.25.0)\n",
      "Requirement already satisfied: kiwisolver>=1.0.1 in /Users/keshavbalaji/anaconda3/envs/ML-py/lib/python3.11/site-packages (from matplotlib->filterpy) (1.4.4)\n",
      "Requirement already satisfied: packaging>=20.0 in /Users/keshavbalaji/anaconda3/envs/ML-py/lib/python3.11/site-packages (from matplotlib->filterpy) (23.2)\n",
      "Requirement already satisfied: pillow>=6.2.0 in /Users/keshavbalaji/anaconda3/envs/ML-py/lib/python3.11/site-packages (from matplotlib->filterpy) (10.2.0)\n",
      "Requirement already satisfied: pyparsing>=2.3.1 in /Users/keshavbalaji/anaconda3/envs/ML-py/lib/python3.11/site-packages (from matplotlib->filterpy) (3.0.9)\n",
      "Requirement already satisfied: python-dateutil>=2.7 in /Users/keshavbalaji/anaconda3/envs/ML-py/lib/python3.11/site-packages (from matplotlib->filterpy) (2.8.2)\n",
      "Requirement already satisfied: six>=1.5 in /Users/keshavbalaji/anaconda3/envs/ML-py/lib/python3.11/site-packages (from python-dateutil>=2.7->matplotlib->filterpy) (1.16.0)\n"
     ]
    }
   ],
   "source": [
    "# all the linear positions\n",
    "pip install filterpy\n",
    "from filterpy.common import Q_continuous_white_noise\n",
    "import numpy as np\n",
    "\n",
    "def norm(x) -> np.ndarray:\n",
    "    '''\n",
    "    args\n",
    "    nd vector\n",
    "\n",
    "    returns normalized vector or 0 vector if magnitude is 0\n",
    "    '''\n",
    "    norm = np.linalg.norm(x)\n",
    "    if (norm != 0):\n",
    "        return x.copy()/norm\n",
    "    return np.zeros(np.shape(x))\n",
    "\n",
    "def body_to_world(roll, pitch, yaw, body_vector):\n",
    "    roll = np.array([[1, 0, 0], [0, np.cos(roll), -np.sin(roll)], [0, np.sin(roll), np.cos(roll)]])\n",
    "    pitch = np.array([[np.cos(pitch), 0, np.sin(pitch)], [0, 1, 0], [-np.sin(pitch), 0, np.cos(pitch)]])\n",
    "    yaw = np.array([[np.cos(yaw), -np.sin(yaw), 0], [np.sin(yaw), np.cos(yaw), 0], [0, 0, 1]])\n",
    "    return yaw @ pitch @ roll @ body_vector\n",
    "\n",
    "def world_to_body(roll, pitch, yaw, world_vector):\n",
    "    roll = np.array([[1, 0, 0], [0, np.cos(roll), -np.sin(roll)], [0, np.sin(roll), np.cos(roll)]])\n",
    "    pitch = np.array([[np.cos(pitch), 0, np.sin(pitch)], [0, 1, 0], [-np.sin(pitch), 0, np.cos(pitch)]])\n",
    "    yaw = np.array([[np.cos(yaw), -np.sin(yaw), 0], [np.sin(yaw), np.cos(yaw), 0], [0, 0, 1]])\n",
    "    return (yaw @ pitch @ roll).T @ world_vector\n",
    "\n",
    "class KalmanFilter:\n",
    "    \"\"\"Kalman Filter for 3D position estimation\n",
    "\n",
    "    Args:\n",
    "        dt (float): time step\n",
    "        pos_x (float): initial x position\n",
    "        vel_x (float): initial x velocity\n",
    "        accel_x (float): initial x acceleration\n",
    "        pos_y (float): initial y position\n",
    "        vel_y (float): initial y velocity\n",
    "        accel_y (float): initial y acceleration\n",
    "        pos_z (float): initial z position\n",
    "        vel_z (float): initial z velocity\n",
    "        accel_z (float): initial z acceleration\n",
    "    \"\"\"\n",
    "    def __init__(self, dt, pos_x, vel_x, accel_x, pos_y, vel_y, accel_y, pos_z, vel_z, accel_z):\n",
    "        self.dt = dt\n",
    "        self.x_k = np.zeros((9,1))\n",
    "        self.Q = np.zeros((9,9))\n",
    "        self.R = np.diag([2., 1.9, 1.9, 1.9])\n",
    "        self.P_k = np.zeros((9,9))\n",
    "        self.x_priori = np.zeros((9,1))\n",
    "        self.P_priori = np.zeros((9,9))\n",
    "        self.F = np.zeros((9,9))\n",
    "        self.H = np.zeros((4,9))\n",
    "\n",
    "        self.current_time = 0\n",
    "        self.s_dt = dt\n",
    "\n",
    "        self.x_k = np.array([pos_x, vel_x, accel_x, pos_y, vel_y, accel_y, pos_z, vel_z, accel_z]).T\n",
    "\n",
    "        for i in range(3):\n",
    "            self.F[3*i:3*i+3, 3*i:3*i+3] = [[1.0, dt, (dt**2) / 2],\n",
    "                                            [0.0, 1.0, dt],\n",
    "                                            [0.0, 0.0, 1.0]]\n",
    "            # Q = np.array([[(dt**5)/20., ((dt**4)/8.)*80., (dt**3)/6.],\n",
    "            #               [((dt**4)/8.)*80., ((dt**3)/8.), (dt**2)/2.],\n",
    "            #               [(dt**3)/6., (dt**2)/2., dt]])\n",
    "            # self.Q[3*i:3*i+3, 3*i:3*i+3] = Q*13.\n",
    "            self.Q[3*i:3*i+3, 3*i:3*i+3] = Q_continuous_white_noise(3, dt, 13.)\n",
    "\n",
    "\n",
    "        # accelerometer 3 axes\n",
    "        # barometric altimeter 1 axis\n",
    "        self.H = np.array([[1.0, 0.0, 0.0, 0.0, 0.0, 0.0, 0.0, 0.0, 0.0],\n",
    "                           [0.0, 0.0, 1.0, 0.0, 0.0, 0.0, 0.0, 0.0, 0.0],\n",
    "                           [0.0, 0.0, 0.0, 0.0, 0.0, 1.0, 0.0, 0.0, 0.0],\n",
    "                           [0.0, 0.0, 0.0, 0.0, 0.0, 0.0, 0.0, 0.0, 1.0]])\n",
    "\n",
    "    def priori(self):\n",
    "        \"\"\"Sets priori state and covariance\n",
    "            Try reading this: https://en.wikipedia.org/wiki/Kalman_filter#Details\n",
    "            But basically predicts step\n",
    "        Args:\n",
    "            u (float): control input\n",
    "        \"\"\"\n",
    "        self.x_priori = self.F @ self.x_k\n",
    "        self.P_priori = (self.F @ self.P_k @ self.F.T) + self.Q\n",
    "\n",
    "    def update(self, bno_attitude, x_pos, x_accel, y_accel, z_accel):\n",
    "        \"\"\"Updates state and covariance\n",
    "\n",
    "        Args:\n",
    "            bno_attitude (tuple): (roll, pitch, yaw) in radians\n",
    "            x_pos (float): x position\n",
    "            x_accel (float): x acceleration\n",
    "            y_accel (float): y acceleration\n",
    "            z_accel (float): z acceleration\n",
    "        \"\"\"\n",
    "        K = (self.P_priori @ self.H.T) @ np.linalg.inv(self.H @ self.P_priori @ self.H.T + self.R)\n",
    "        acc = body_to_world(*bno_attitude, np.array([x_accel, y_accel, z_accel])) + np.array([-9.81, 0, 0])\n",
    "        y_k = np.array([x_pos, *acc]).T\n",
    "\n",
    "        self.x_k = self.x_priori + K @ (y_k - self.H @ self.x_priori)\n",
    "        self.P_k = (np.eye(len(K)) - K @ self.H) @ self.P_priori\n",
    "\n",
    "        self.current_time += self.s_dt\n",
    "\n",
    "    def get_state(self):\n",
    "        \"\"\"Returns current state\n",
    "\n",
    "        Returns:\n",
    "            np.array: current state\n",
    "        \"\"\"\n",
    "        return self.x_k\n",
    "\n",
    "    def get_covariance(self):\n",
    "        \"\"\"Returns current covariance\n",
    "\n",
    "        Returns:\n",
    "            np.array: current covariance\n",
    "        \"\"\"\n",
    "        return np.diag(self.P_k)\n",
    "\n",
    "    def reset_lateral_pos(self):\n",
    "        \"\"\"Resets lateral position to 0\n",
    "        \"\"\"\n",
    "        self.x_k[1:3] = [0,0]\n",
    "\n",
    "\n",
    "\n",
    "\n",
    "\n"
   ]
  },
  {
   "cell_type": "code",
   "execution_count": 117,
   "metadata": {},
   "outputs": [],
   "source": [
    "import matplotlib.pyplot as plt\n",
    "import numpy as np\n",
    "import pandas as pd\n",
    "import seaborn as sns"
   ]
  },
  {
   "cell_type": "code",
   "execution_count": 118,
   "metadata": {},
   "outputs": [],
   "source": [
    "file_data = pd.read_csv(\"data.csv\")\n",
    "highG_data = file_data[['timestamp', 'highg.ax', 'highg.ay', 'highg.az']]\n",
    "orientation_data = file_data[['timestamp', 'orientation.has_data', 'orientation.roll','orientation.pitch','orientation.yaw']]\n",
    "barometer_data = file_data[['timestamp', 'barometer.altitude']]\n",
    "df = file_data[['timestamp', 'highg.ax', 'highg.ay', 'highg.az', 'orientation.has_data', 'orientation.roll','orientation.pitch','orientation.yaw','barometer.altitude']]"
   ]
  },
  {
   "cell_type": "code",
   "execution_count": 119,
   "metadata": {},
   "outputs": [],
   "source": [
    "barometer_data.loc[barometer_data['timestamp'] == 5207].dropna()\n",
    "#barometer_data_2 = barometer_data.dropna(subset=['barometer.altitude'])\n",
    "orientation_data_2 = orientation_data.dropna(subset=['orientation.has_data'])\n",
    "timestamps = orientation_data_2['timestamp'].unique()"
   ]
  },
  {
   "cell_type": "code",
   "execution_count": 120,
   "metadata": {},
   "outputs": [
    {
     "name": "stdout",
     "output_type": "stream",
     "text": [
      "5542\n",
      "Empty DataFrame\n",
      "Columns: [timestamp, highg.ax, highg.ay, highg.az]\n",
      "Index: []\n",
      "     timestamp  orientation.has_data  orientation.roll  orientation.pitch  \\\n",
      "662       5542                   1.0          0.901165          -0.777054   \n",
      "\n",
      "     orientation.yaw  \n",
      "662        -1.565102  \n"
     ]
    }
   ],
   "source": [
    "print(timestamps[1])\n",
    "highg_row = highG_data.loc[highG_data['timestamp'] == 5542].dropna()\n",
    "or_row = orientation_data.loc[orientation_data['timestamp'] == 5542].dropna()\n",
    "print(highg_row)\n",
    "print(or_row)"
   ]
  },
  {
   "cell_type": "code",
   "execution_count": 121,
   "metadata": {},
   "outputs": [],
   "source": [
    "timestamps = df['timestamp'].values\n",
    "altitude = df['barometer.altitude'].values\n",
    "accel_x = df['highg.ax'].values\n",
    "accel_y = df['highg.ay'].values\n",
    "accel_z = df['highg.az'].values\n",
    "roll = df['orientation.roll'].values\n",
    "pitch = df['orientation.pitch'].values\n",
    "yaw = df['orientation.yaw'].values\n",
    "o_has_data = df['orientation.has_data'].values"
   ]
  },
  {
   "cell_type": "code",
   "execution_count": 126,
   "metadata": {},
   "outputs": [],
   "source": [
    "kalman_filter = KalmanFilter(0.05, 0, 0, 0, 0, 0, 0, 0, 0, 0)\n",
    "\n",
    "last_valid_altitude = 0\n",
    "last_valid_accel_x = 0\n",
    "last_valid_accel_y = 0\n",
    "last_valid_accel_z = 0\n",
    "last_valid_roll = 0\n",
    "last_valid_pitch = 0\n",
    "last_valid_yaw = 0\n",
    "predicted_altitude = []\n",
    "\n",
    "for i in range(600000):\n",
    "        # Check if the current row has valid values, and if not, use the last valid ones\n",
    "        if not pd.isna(altitude[i]):\n",
    "            #print(altitude[i])\n",
    "            last_valid_altitude = altitude[i]\n",
    "        if not pd.isna(accel_x[i]):\n",
    "            last_valid_accel_x = accel_x[i]\n",
    "        if not pd.isna(accel_y[i]):\n",
    "            last_valid_accel_y = accel_y[i]\n",
    "        if not pd.isna(accel_z[i]):\n",
    "            last_valid_accel_z = accel_z[i]\n",
    "        if not pd.isna(roll[i]):\n",
    "            last_valid_roll = roll[i]\n",
    "        if not pd.isna(pitch[i]):\n",
    "            last_valid_pitch = pitch[i]\n",
    "        if not pd.isna(yaw[i]):\n",
    "            last_valid_yaw = yaw[i]\n",
    "\n",
    "        # Use the last valid values to update the Kalman filter\n",
    "        bno_attitude = (last_valid_roll, last_valid_pitch, last_valid_yaw)\n",
    "        kalman_filter.priori()\n",
    "        kalman_filter.update(bno_attitude, last_valid_altitude, last_valid_accel_x, last_valid_accel_y*-9.8, last_valid_accel_z*-9.8)\n",
    "        state = kalman_filter.get_state()\n",
    "        #print(state.shape)\n",
    "        #print(state[0])\n",
    "        predicted_altitude.append(state[0])  # pos_x is the altitude"
   ]
  },
  {
   "cell_type": "code",
   "execution_count": 102,
   "metadata": {},
   "outputs": [
    {
     "name": "stdout",
     "output_type": "stream",
     "text": [
      "3145.354938371262\n",
      "600000\n",
      "4614591\n"
     ]
    }
   ],
   "source": [
    "import numpy as np\n",
    "pa = np.array(predicted_altitude)\n",
    "print(np.max(pa))\n",
    "print(len(predicted_altitude))\n",
    "print(len(altitude))\n",
    "\n",
    "\n"
   ]
  },
  {
   "cell_type": "code",
   "execution_count": null,
   "metadata": {},
   "outputs": [],
   "source": []
  },
  {
   "cell_type": "code",
   "execution_count": 106,
   "metadata": {},
   "outputs": [],
   "source": []
  },
  {
   "cell_type": "code",
   "execution_count": 128,
   "metadata": {},
   "outputs": [
    {
     "data": {
      "text/plain": [
       "<Axes: xlabel='None', ylabel='altitude'>"
      ]
     },
     "execution_count": 128,
     "metadata": {},
     "output_type": "execute_result"
    },
    {
     "data": {
      "image/png": "[encoded data removed]",
      "text/plain": [
       "<Figure size 640x480 with 1 Axes>"
      ]
     },
     "metadata": {},
     "output_type": "display_data"
    }
   ],
   "source": [
    "df_pred = pd.DataFrame(predicted_altitude, columns =['altitude'])\n",
    "\n",
    "sns.lineplot(x=df_pred.index, y='altitude', data=df_pred, label='Predicted Altitude (Kalman)')"
   ]
  },
  {
   "cell_type": "code",
   "execution_count": 129,
   "metadata": {},
   "outputs": [
    {
     "data": {
      "text/plain": [
       "<Axes: xlabel='None', ylabel='barometer.altitude'>"
      ]
     },
     "execution_count": 129,
     "metadata": {},
     "output_type": "execute_result"
    },
    {
     "data": {
      "image/png": "[encoded data removed]",
      "text/plain": [
       "<Figure size 640x480 with 1 Axes>"
      ]
     },
     "metadata": {},
     "output_type": "display_data"
    }
   ],
   "source": [
    "sns.lineplot(x=df_pred.index, y='barometer.altitude', data=df[:600000], label = 'x')"
   ]
  }
 ],
 "metadata": {
  "kernelspec": {
   "display_name": "ML-py",
   "language": "python",
   "name": "python3"
  },
  "language_info": {
   "codemirror_mode": {
    "name": "ipython",
    "version": 3
   },
   "file_extension": ".py",
   "mimetype": "text/x-python",
   "name": "python",
   "nbconvert_exporter": "python",
   "pygments_lexer": "ipython3",
   "version": "3.11.8"
  }
 },
 "nbformat": 4,
 "nbformat_minor": 2
}
